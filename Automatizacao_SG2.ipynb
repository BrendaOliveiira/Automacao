{
  "nbformat": 4,
  "nbformat_minor": 0,
  "metadata": {
    "colab": {
      "provenance": [],
      "authorship_tag": "ABX9TyPZgZ3mR7AYlyRN7hOG4mmB",
      "include_colab_link": true
    },
    "kernelspec": {
      "name": "python3",
      "display_name": "Python 3"
    },
    "language_info": {
      "name": "python"
    }
  },
  "cells": [
    {
      "cell_type": "markdown",
      "metadata": {
        "id": "view-in-github",
        "colab_type": "text"
      },
      "source": [
        "<a href=\"https://colab.research.google.com/github/BrendaOliveiira/Automacao/blob/main/Automatizacao_SG2.ipynb\" target=\"_parent\"><img src=\"https://colab.research.google.com/assets/colab-badge.svg\" alt=\"Open In Colab\"/></a>"
      ]
    },
    {
      "cell_type": "code",
      "execution_count": 27,
      "metadata": {
        "id": "CSLJPNnLw2FC"
      },
      "outputs": [],
      "source": [
        "import pandas as pd"
      ]
    },
    {
      "cell_type": "code",
      "source": [
        "!pip install openpyxl"
      ],
      "metadata": {
        "colab": {
          "base_uri": "https://localhost:8080/"
        },
        "id": "_oFqm1kryACW",
        "outputId": "3dbe7825-b6c4-4287-e128-9bd8877ab9c7"
      },
      "execution_count": 28,
      "outputs": [
        {
          "output_type": "stream",
          "name": "stdout",
          "text": [
            "Requirement already satisfied: openpyxl in /usr/local/lib/python3.10/dist-packages (3.1.2)\n",
            "Requirement already satisfied: et-xmlfile in /usr/local/lib/python3.10/dist-packages (from openpyxl) (1.1.0)\n"
          ]
        }
      ]
    },
    {
      "cell_type": "code",
      "source": [
        "df_base = pd.read_excel('/content/Base Global Consolidada - 03_2024 (Automática).xlsx', sheet_name=\"Base\", header=2)"
      ],
      "metadata": {
        "id": "345w4oo9xHeC"
      },
      "execution_count": 29,
      "outputs": []
    },
    {
      "cell_type": "code",
      "source": [
        "df_base = df_base.drop(columns=['ANOMES','B8_EMPRESA','DESC_EMPRESA','B8A_CNPJ_EMPRESA','C6A_CNPJ_LOCAL','D6_CENTRO_LUCRO','B9_UNIDADE','UNIDADE_PES','SG_UNID_ORGN','CCUSTO_DESC','C4_GESTOR_MEDIATO','A6_NUMERO_DOCUMENTO','RG','IDADE','GERACAO','FAIXA_ETÁRIA','B5_PRIMEIRA_ADMISSAO','B6_DATA_DESLIGAMENTO','B7_MOTIVO_DESLIGAMENTO','TEMPO','FAIXA TEMPO NA EMPRESA','CODIGO_CARGO','B3_GRADE_NOVO','CARGO_LIDERANCA','DATA_ASSUMIU_CARGO','TEMPO_CARGO','FAIXA_TEMPO_CARGO','C91_ULTIMA_MOVIMENTACAO_DT','C92_DESC_MOTIVO','C10_PERCENTUAL','D1_SALARIO_MENSAL','D1_SALARIO_HORA','%_DA_FAIXA','HORASMES','D4_PERC_REGIAO_TRANSF','AG_LOCAL','E5_CONTRATO_SUSPENSO','E6_EXPATRIADO','A4_FORMACAO','DESC_RACA_COR','DESC_PCD','LOCAL_HIST','DESC_LOCAL','UF_LOCAL','SINDICATO','SINDICATO_DESC','CA_MAPR','SALBAS_PORTAL','RES_DDD','RES_FONE','DDD_CELULAR','CELULAR','EMAIL_ALTER','TEMPO_DE_CASA_ULTIMA_ADMISSAO','FAIXA_DE_TEMPO_ULTIMA_ADMISSAO','POSICAO_GRADE_FINAL ','ID DUPLICADO','RETIRAR DA CONTAGEM QUANDO ID DUPLICADO( CONSIDERA ID CONSAG)','CATEGORIA_AREA','NÍVEL DO CARGO','BP FAZ GESTAO','E3_ESCOLARIDADE','PUBLICO OVERHEAD']).copy()\n",
        "df_base"
      ],
      "metadata": {
        "id": "w9XmFdn4xY5Z"
      },
      "execution_count": null,
      "outputs": []
    },
    {
      "cell_type": "code",
      "source": [
        "df_base = df_base.rename(columns={'C2_UN_DIRETORIA':'LOCATION','C1_AREA':'DEPARTMENT','CCUSTO':'CUSTOM01', 'C3_GESTOR_IMEDIATO':'MANAGER','C6_ESCRITORIO_OBRA':'ADDR1','ID_UNICO':'USERID','B1_MATRICULA':'EMPID','A1_NOME':'NOME','A1_EMAIL':'EMAIL','A2_GENERO':'GENDER','A3_DATA_NASCIMENTO':'CUSTOM13','E1_STATUS':'CUSTOM08','B4_DATA_ADMISSAO':'HIREDATE','B2_CARGO':'TITLE','E2_CATEGORIA':'CUSTOM02','DESC_CONS_GENTE':'HR','GRUPO':'DIVISION','A7_NACIONALIDADE':'CUSTOM04'}).copy()\n",
        "df_base"
      ],
      "metadata": {
        "id": "JIbebKh_xtFR"
      },
      "execution_count": null,
      "outputs": []
    },
    {
      "cell_type": "code",
      "source": [
        "def limpar_texto(texto):\n",
        "    texto_limpo = texto.replace('_x000D_\\n', '').strip()\n",
        "    texto_limpo = texto_limpo.strip('\"')\n",
        "    return texto_limpo\n",
        "df_base['HR'] = df_base['HR'].apply(lambda x: limpar_texto(x))\n",
        "df_base"
      ],
      "metadata": {
        "id": "aBFwP-0Dx731"
      },
      "execution_count": null,
      "outputs": []
    },
    {
      "cell_type": "code",
      "source": [
        "df_base['STATUS'] = 'Active'\n",
        "df_base['TIMEZONE'] = 'America/Sao_Paulo'\n",
        "df_base['COUNTRY'] = 'BR'\n",
        "df_base['DEFAULT_LOCALE'] = 'pt_BR'\n",
        "df_base['LOGIN_METHOD'] = 'SSO'\n",
        "df_base['JOBCODE'] = df_base['TITLE']\n",
        "df_base['MATRIX_MANAGER'] = df_base['MANAGER']\n",
        "df_base"
      ],
      "metadata": {
        "id": "Rfmh8_PRzKrb"
      },
      "execution_count": null,
      "outputs": []
    },
    {
      "cell_type": "code",
      "source": [
        "df_base[['FIRSTNAME','LASTNAME']] = df_base['NOME'].str.split(\" \", n=1, expand=True)\n",
        "df_base"
      ],
      "metadata": {
        "id": "12kdlrZjzMj5"
      },
      "execution_count": null,
      "outputs": []
    },
    {
      "cell_type": "code",
      "source": [
        "nova_ordem_colunas = ['STATUS','USERID','NOME','FIRSTNAME','LASTNAME','GENDER','EMAIL','MANAGER','HR','DIVISION','DEPARTMENT','LOCATION','JOBCODE','TIMEZONE','HIREDATE','EMPID','TITLE','ADDR1','COUNTRY','CUSTOM01','CUSTOM02','CUSTOM04','CUSTOM08','CUSTOM13','MATRIX_MANAGER','DEFAULT_LOCALE','LOGIN_METHOD']\n",
        "df_base = df_base.reindex(columns=nova_ordem_colunas)\n",
        "df_base"
      ],
      "metadata": {
        "id": "qJ3l6p2FzPf9"
      },
      "execution_count": null,
      "outputs": []
    },
    {
      "cell_type": "code",
      "source": [
        "userids = ['NOME','USERID']\n",
        "df_users = df_base[userids].copy()\n",
        "df_users"
      ],
      "metadata": {
        "id": "4zFqkaQ-zUXm"
      },
      "execution_count": null,
      "outputs": []
    },
    {
      "cell_type": "code",
      "source": [
        "df_base = df_base.merge(df_users, left_on='HR',right_on='NOME',how='left')\n",
        "df_base"
      ],
      "metadata": {
        "id": "Fd5lbYa7zVlw"
      },
      "execution_count": null,
      "outputs": []
    },
    {
      "cell_type": "code",
      "source": [
        "df_base['HR'] = df_base['USERID_y']\n",
        "df_base"
      ],
      "metadata": {
        "id": "qtjNwEIn2rqH"
      },
      "execution_count": null,
      "outputs": []
    },
    {
      "cell_type": "code",
      "source": [
        "df_base = df_base.drop(columns=['NOME_x','NOME_y','USERID_y']).copy()\n",
        "df_base"
      ],
      "metadata": {
        "id": "Msy1f4K427ck"
      },
      "execution_count": null,
      "outputs": []
    },
    {
      "cell_type": "code",
      "source": [
        "df_base = df_base.rename(columns={'USERID_x':'USERID'}).copy()\n",
        "df_base"
      ],
      "metadata": {
        "id": "Ymll7ZgJ3MMZ"
      },
      "execution_count": null,
      "outputs": []
    },
    {
      "cell_type": "code",
      "source": [
        "df_base['MANAGER'] = df_base['MANAGER'].str.split().str[0]\n",
        "df_base['MATRIX_MANAGER'] = df_base['MANAGER']\n",
        "df_base"
      ],
      "metadata": {
        "id": "18y1njA9zijC"
      },
      "execution_count": null,
      "outputs": []
    },
    {
      "cell_type": "code",
      "source": [
        "df_base['USERNAME'] = df_base['EMAIL'].str.split('@').str[0]\n",
        "df_base"
      ],
      "metadata": {
        "id": "RT0ARx4ozuUt"
      },
      "execution_count": null,
      "outputs": []
    },
    {
      "cell_type": "code",
      "source": [
        "nova_ordem_colunas = ['STATUS','USERID','USERNAME','FIRSTNAME','LASTNAME','GENDER','EMAIL','MANAGER','HR','DIVISION','DEPARTMENT','LOCATION','JOBCODE','TIMEZONE','HIREDATE','EMPID','TITLE','ADDR1','COUNTRY','CUSTOM01','CUSTOM02','CUSTOM04','CUSTOM08','CUSTOM13','MATRIX_MANAGER','DEFAULT_LOCALE','LOGIN_METHOD']\n",
        "df_base = df_base.reindex(columns=nova_ordem_colunas)\n",
        "df_base"
      ],
      "metadata": {
        "id": "hYip17dGzxu3"
      },
      "execution_count": null,
      "outputs": []
    },
    {
      "cell_type": "code",
      "source": [
        "df_base = df_base[(df_base['DIVISION'] != 'LOCAL') & (df_base['DIVISION'] != 'AFINIDADE BRADESCO')]\n",
        "df_base"
      ],
      "metadata": {
        "id": "FNbqCSxl53Ml"
      },
      "execution_count": null,
      "outputs": []
    },
    {
      "cell_type": "code",
      "source": [
        "valores_excluir = ['AFAST_ACIDENTE_TRABALHO', 'AFAST_APOS_PREVIDENCIA', 'AFAST_APOS_ACIDENTE', 'AFAST_AUXILIO_DOENCA', 'DEMITIDO', 'DEMITIDO_2VINC', 'AFAST_LIC_MATERNIDADE', 'MES_AUXILIO_DOENCA', 'AFAST_LIC_REMUNERADA','AFAST_CONTRATO_SUSPENSO', 'MES_LICENCA_REMUNERADA']\n",
        "df_base = df_base[~df_base['CUSTOM08'].isin(valores_excluir)]\n",
        "df_base\n"
      ],
      "metadata": {
        "id": "CqzH1EIV6vPS"
      },
      "execution_count": null,
      "outputs": []
    },
    {
      "cell_type": "code",
      "source": [
        "df_base['CUSTOM08'] = 'Ativo'\n",
        "df_base"
      ],
      "metadata": {
        "id": "EMCY1-Mc9UvS"
      },
      "execution_count": null,
      "outputs": []
    },
    {
      "cell_type": "code",
      "source": [
        "valores_excluir = ['AUXILIAR DE SERVICOS GERAIS', 'COPEIRA', 'ESTAGIARIO', 'JOVEM APRENDIZ', 'MENSAGEIRO', 'MOTORISTA']\n",
        "df_base = df_base[~df_base['JOBCODE'].isin(valores_excluir)]\n",
        "df_base"
      ],
      "metadata": {
        "id": "3orNzxgG-gvp"
      },
      "execution_count": null,
      "outputs": []
    },
    {
      "cell_type": "code",
      "source": [
        "df_base['Check_Manager'] = df_base['MANAGER'].isin(df_base['USERID'])\n",
        "df_base['Check_Manager'] = df_base['Check_Manager'].map({True:'Ativo',False:'Desligado'}).copy()\n",
        "df_base"
      ],
      "metadata": {
        "id": "hiu4QdwXALX-"
      },
      "execution_count": null,
      "outputs": []
    },
    {
      "cell_type": "code",
      "source": [
        "df_base_manager_desligado = df_base[df_base['Check_Manager'] == 'Desligado']\n",
        "df_base_manager_desligado"
      ],
      "metadata": {
        "id": "dvctr71hATYY"
      },
      "execution_count": null,
      "outputs": []
    },
    {
      "cell_type": "code",
      "source": [
        "df_base_manager_desligado.to_excel('Gestor_Desligado.xlsx', index=False)"
      ],
      "metadata": {
        "id": "fkulEHYHAeHB"
      },
      "execution_count": 52,
      "outputs": []
    },
    {
      "cell_type": "code",
      "source": [
        "df_base.to_excel('Base Sistema de Gente.xlsx', index=False)"
      ],
      "metadata": {
        "id": "aqGyTfq18lDC"
      },
      "execution_count": 51,
      "outputs": []
    },
    {
      "cell_type": "markdown",
      "source": [],
      "metadata": {
        "id": "5zQKhlPAB55M"
      }
    }
  ]
}